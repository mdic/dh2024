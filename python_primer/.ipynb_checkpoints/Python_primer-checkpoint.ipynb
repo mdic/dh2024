{
 "cells": [
  {
   "cell_type": "markdown",
   "id": "33d22760-c1c1-421b-bcdd-681639979ea1",
   "metadata": {},
   "source": [
    "# Working with digital textual data: a Python primer\n",
    "\n",
    "## Disclaimer and scope\n",
    "The materials contained in this interactive Jupyter notebook are meant to provide a set of (some of the) main concepts and mechanisms @@@. As such, they are meant to be used a @@@ when you will start experimenting with Python on your own.  \n",
    "This notebook is in no way meant to be an \"introductory course to Python\", nor is it meant to teach you how to write or use Python fluently.\n",
    "\n",
    "## How to use this notebook\n",
    "You should run this notebook (i.e. this `.ipynb` file) from a local copy on your PC; this assumes @@@"
   ]
  },
  {
   "cell_type": "markdown",
   "id": "74a58c28-543f-4e85-acb6-2761e4b82591",
   "metadata": {},
   "source": [
    "# Programming languages\n",
    "To simplify, the thousands of available programming languages can be categorised according to two major characteristics:\n",
    "\n",
    "a. Low- or high-level  \n",
    "b. General-purpose (GPL) or domain-specific (DSL) language  \n",
    "  \n",
    "a. A high-level programming language (such as Python) provides a \"strong abstraction from the details of the computer. In contrast to low-level programming languages, it may use natural language elements, be easier to use, or may automate (or even hide entirely) significant areas of computing systems (e.g. memory management), making the process of developing a program simpler and more understandable than when using a lower-level language.\" ([source](https://en.wikipedia.org/wiki/High-level_programming_language))  \n",
    "  \n",
    "b. A general-purpose programming language (such as Python) can be used to develop a wide range of different applications (e.g. videogames, web apps, websites, editing images, processing textual data, etc...), while domain-specific ones are tailored to one (or a small number of) specific purposes."
   ]
  },
  {
   "cell_type": "code",
   "execution_count": null,
   "id": "e152e127-90ab-4fa6-aff6-2c0e1d2dfde3",
   "metadata": {},
   "outputs": [],
   "source": [
    "# This is a single-line comment\n",
    "\n",
    "\"\"\"\n",
    "This is a\n",
    "multiline\n",
    "comment\n",
    "\"\"\""
   ]
  },
  {
   "cell_type": "markdown",
   "id": "9bfb9888-b3bc-434e-9d07-5448849be337",
   "metadata": {},
   "source": [
    "# Cooking with Python: a culinary analogy\n",
    "Let's pretend you have just bought a new apartment in Italy, and that it comes pre-furnished. In it you have a kitchen, a basic one; let's pretend it's a *basic Italian kitchen*. A kitchen where you will find all the tools and ingredients that are needed to prepare the basic Italian dishes: an oven, a stove, some pans, some cutlery; pasta, salt, pepper, olive oil, tomatoes, onions, garlic.  \n",
    "You won't find Garam Masala in it, nor sushi rice, nor a wok. Just a basic Italian kitchen to get you started with Italian dishes.  \n",
    "The default Python installation is just like this kitchen: it has the basic tools and ingredients (called **modules** or **libraries**) and nothing more.  \n",
    "  \n",
    "Now, you have invited some friends over for an Indian dinner, and you are going to prepare a Tikka Masala curry. Your basic kitchen doesn't have a lot of the things needed - some of which are commonly available from any store in Italy, some others that can only be found in specialised stores. Chicken and yoghurt can easily be found in any supermarket; curry spices and coconut milk can be bought in Asian markets. \n",
    "Similarly in Python you may need to get some **modules from outside as they are not available in the basic installation**; this is commonly done through a module manager called [`pip`](https://pip.pypa.io/en/stable/).  \n",
    "\n",
    "What if one of your guests is coeliac? Well, you'd have to get some special ingredients, as well as using tools that must not come in contact with @@@. You would have to keep these ingredients and tools separate from the other ones, since mixing them may cause serious consequences: the former are conflicting with the latter.  \n",
    "The same may happen with Python modules: you may be using a module that requires specific versions of other modules, which in turn may be incompatible with an additional module. Luckily with Python you can create a **virtual environment** (often called `venv`), a self-contained and isolated \"box\" into which you can install modules and keep them separated from modules installed inside of a second virtual environment."
   ]
  },
  {
   "cell_type": "markdown",
   "id": "178d90f4-a72e-4b6b-a96e-7667b4a08152",
   "metadata": {},
   "source": [
    "Throughout this notebook we will install Python through `conda`, a package manager which simplifies the installation of modules as well as the creation of virtual environments."
   ]
  },
  {
   "cell_type": "markdown",
   "id": "4678a4c4-da90-4e77-b9cd-88234dd29124",
   "metadata": {},
   "source": [
    "# Installing Python\n",
    "\n",
    "[Miniconda](https://docs.anaconda.com/free/miniconda/index.html) or alternatively [Miniforge](https://conda-forge.org/miniforge/) (select the installer for **Miniforge3**, the last in the table with the download links.  \n",
    "Miniconda/Miniforge will install Python in your system, and automatically creates a virtual environment called `base` which will replace (not delete, but \"take the place of\") your existing Python installed on your system (if you had already installed Python!).  \n",
    "Once installed, opening a command prompt (Windows) or terminal (macOS) will show something like the following:\n",
    "\n",
    "> `(base) catlism@debian:~$`\n",
    "\n",
    "where your username, name of the PC, and name of the folder you are currently in is preceded by the label `(base)`. This is the way through which `conda` lets you know that you are currently using its basic (default) virtual environment.  \n",
    "From here we can create a new environment called `test` by writing the following command followed by `Enter`:\n",
    "\n",
    "> `conda create --name test`\n",
    "\n",
    "which we can then activate using the command:\n",
    "\n",
    "> `conda activate test`\n",
    "\n",
    "This will be reflected in the terminal, where something like the line below will replace the previous `(base)` version:\n",
    "\n",
    "> `(test) catlism@debian:-$`\n",
    "\n",
    "If you want to deactivate the `test` environment and switch back to the `base` one, use the following command:\n",
    "\n",
    "> `conda deactivate`\n",
    "\n",
    "Further details may be found in [this page](https://catlism.github.io/setup_env/conda.html)."
   ]
  },
  {
   "cell_type": "markdown",
   "id": "189b378e-1b91-4792-a108-f0276b606405",
   "metadata": {},
   "source": [
    "# The two golden rules\n",
    "In order to begin approaching Python code, two rules need to be known:\n",
    "\n",
    "1. Strings of text preceded by a `#` symbol, or enclosed in three pairs of single or double quotes (`'''` or `\"\"\"`) are **comments meant for humans and are not read by Python**. Everything else is interpreted by Python as code.\n",
    "2. Graphical indentation is meaningful in Python, and defines the hierarchy of the code."
   ]
  },
  {
   "cell_type": "code",
   "execution_count": null,
   "id": "098d4c45-f895-47bb-8974-226d80939c32",
   "metadata": {
    "scrolled": true
   },
   "outputs": [],
   "source": [
    "# the following code has a hierarchy, whereby `print(c)` is a child of `for c in \"example\"`\n",
    "for c in \"example\":\n",
    "    print(c)"
   ]
  },
  {
   "cell_type": "markdown",
   "id": "b7cf3146-cf28-4db1-a571-0e5b80a8934d",
   "metadata": {},
   "source": [
    "# Types of data\n",
    "Python is able to read different types of data, and do different things with each one of them. This is similar to "
   ]
  },
  {
   "cell_type": "markdown",
   "id": "17047ddf-601f-4253-9823-1ebe82931beb",
   "metadata": {},
   "source": [
    "## Numbers\n",
    "Python (just like the majority of programming languages) distinguishes [numbers](https://www.w3schools.com/python/python_numbers.asp) by grouping them into two sub-categories: `integers` and `floats` (a third type exists, but we'll ignore it as we're not going to need it).  \n",
    "In the code below, we assign four different numbers to four different variables (`w`, `x`, `y`, `z`), and ask Python to print the `type` of each one."
   ]
  },
  {
   "cell_type": "code",
   "execution_count": null,
   "id": "56e3b835-b78e-40d7-93bc-f9bdb8b93640",
   "metadata": {},
   "outputs": [],
   "source": [
    "w = 1\n",
    "x = -3255522\n",
    "y = 1.09834\n",
    "z = -20.976362\n",
    "\n",
    "print(type(w))\n",
    "print(type(x))\n",
    "print(type(y))\n",
    "print(type(z))"
   ]
  },
  {
   "cell_type": "markdown",
   "id": "4b55dc5d-dcc5-49c0-b4f1-938ffecfc6f5",
   "metadata": {},
   "source": [
    "## Text strings\n",
    "A string of text is defined by enclosing it in single or double quotes.  \n",
    "In the example below, we assign a string to the variable called `text`; then we ask Python to operate on the string. We want Python to take each minimal unit  - which we call `c` - of the object stored in `text` and print it, one after the other until the object (i.e. the string) is over."
   ]
  },
  {
   "cell_type": "code",
   "execution_count": null,
   "id": "1e5765f9-452e-484d-8c48-f45cd09bc13d",
   "metadata": {},
   "outputs": [],
   "source": [
    "text = \"This is a sample sentence.\"\n",
    "\n",
    "for c in text:\n",
    "    print(c)"
   ]
  },
  {
   "cell_type": "markdown",
   "id": "d48b898d-0700-454a-9977-89c2171cafde",
   "metadata": {},
   "source": [
    "By default Python sees as minimal unit of a string what we humans call a character.  \n",
    "We can change this behaviour by applying one or more **methods**: these are special words that apply a function (the parentheses `()` following the special word indicate it is a function) to the variable that precedes them (the dot `.` indicates that the function is applied to what is on the left of it).  \n",
    "For example the [`.split()`](https://www.w3schools.com/python/ref_string_split.asp) method splits a string of text whenever it finds a whitespace:"
   ]
  },
  {
   "cell_type": "code",
   "execution_count": null,
   "id": "7a0b416f-1612-4719-baa2-d534cdde2af2",
   "metadata": {},
   "outputs": [],
   "source": [
    "for c in text.split():\n",
    "    print(c)"
   ]
  },
  {
   "cell_type": "markdown",
   "id": "37c3b1a5-86d0-4b78-a768-4e5a1e6b56d3",
   "metadata": {},
   "source": [
    "## Lists\n",
    "\n",
    "Lists are used to store multiple items in a single variable, such as:"
   ]
  },
  {
   "cell_type": "code",
   "execution_count": null,
   "id": "49207abd-7813-4df6-9000-755ef715584e",
   "metadata": {},
   "outputs": [],
   "source": [
    "ingredients = [\"chicken\", \"curry spices\", \"yoghurt\", \"coconut milk\"]"
   ]
  },
  {
   "cell_type": "markdown",
   "id": "3b9a8e49-5d02-4172-979c-94f5bc66d73c",
   "metadata": {},
   "source": [
    "The four elements are seen by Python as the minimal units of the object `ingredients`:"
   ]
  },
  {
   "cell_type": "code",
   "execution_count": null,
   "id": "a8b0b4a2-d39b-4a25-a891-99a4f23e0093",
   "metadata": {},
   "outputs": [],
   "source": [
    "for i in ingredients:\n",
    "    print(i)"
   ]
  },
  {
   "cell_type": "markdown",
   "id": "79b8e568-71e0-44a9-b953-ce266107ed32",
   "metadata": {},
   "source": [
    "List items are **ordered**, **changeable**, **allow duplicate values**, and are **indexed** - i.e. the first item has index `[0]`, the second item has index `[1]` etc."
   ]
  },
  {
   "cell_type": "code",
   "execution_count": null,
   "id": "ee567b62-e92b-4374-ad72-4d68a9eb7ec4",
   "metadata": {},
   "outputs": [],
   "source": [
    "# Lists are ordered and indexed\n",
    "\n",
    "print(ingredients[1])"
   ]
  },
  {
   "cell_type": "code",
   "execution_count": null,
   "id": "a594a089-af5f-4d65-a076-3aba4bad8a8f",
   "metadata": {},
   "outputs": [],
   "source": [
    "# Lists are changeable\n",
    "ingredients[2] = \"vegan yoghurt\"\n",
    "print(ingredients)"
   ]
  },
  {
   "cell_type": "code",
   "execution_count": null,
   "id": "1bdd1ab2-09f6-439b-8378-2eeeda47dbc8",
   "metadata": {},
   "outputs": [],
   "source": [
    "# Lists may contain duplicate values\n",
    "ingredients.append(\"chicken\")\n",
    "# we need A LOT of chicken!\n",
    "print(ingredients)"
   ]
  },
  {
   "cell_type": "code",
   "execution_count": null,
   "id": "c86ee90d-26fe-41e5-8740-32072992ec27",
   "metadata": {},
   "outputs": [],
   "source": [
    "# How many items are in a list?\n",
    "print(len(ingredients))"
   ]
  },
  {
   "cell_type": "markdown",
   "id": "356254f3-f74f-4089-9d0b-fc4eac7abf03",
   "metadata": {},
   "source": [
    "## Dictionaries\n",
    "Dictionaries are used to store data values in `key:value` pairs.\n",
    "\n",
    "A dictionary is a collection which is **ordered**, **changeable** and **do not allow duplicates**."
   ]
  },
  {
   "cell_type": "code",
   "execution_count": null,
   "id": "ae502692-274f-41e9-81ab-120997492457",
   "metadata": {},
   "outputs": [],
   "source": [
    "shopping_list = {\n",
    "    \"chicken\": \"1 whole\",\n",
    "    \"curry spices\": \"150gr\",\n",
    "    \"yoghurt\": \"200gr\",\n",
    "    \"coconut milk\": \"400ml\",\n",
    "}\n",
    "\n",
    "print(shopping_list)"
   ]
  },
  {
   "cell_type": "code",
   "execution_count": null,
   "id": "5bb146ed-91b9-4102-8585-fb26dc6c1045",
   "metadata": {},
   "outputs": [],
   "source": [
    "# Dictionaries are ordered\n",
    "print(shopping_list[\"chicken\"])"
   ]
  },
  {
   "cell_type": "code",
   "execution_count": null,
   "id": "f62692b9-6cab-49af-8fc0-a081dbd4bfdf",
   "metadata": {},
   "outputs": [],
   "source": [
    "# Dictionaries are changeable\n",
    "shopping_list[\"yoghurt\"] = \"400gr\"\n",
    "print(shopping_list)"
   ]
  },
  {
   "cell_type": "code",
   "execution_count": null,
   "id": "4309c02a-40b7-4f14-9b78-7186f4e00a4d",
   "metadata": {},
   "outputs": [],
   "source": [
    "# Dictionaries do not allow duplicates\n",
    "shopping_list = {\n",
    "    \"chicken\": \"1 whole\",\n",
    "    \"curry spices\": \"150gr\",\n",
    "    \"yoghurt\": \"200gr\",\n",
    "    \"coconut milk\": \"400ml\",\n",
    "    \"coconut milk\": \"300ml\",\n",
    "}\n",
    "\n",
    "print(shopping_list)"
   ]
  },
  {
   "cell_type": "code",
   "execution_count": null,
   "id": "f6e2df84-e4df-46c0-9c58-3a1350e7777c",
   "metadata": {},
   "outputs": [],
   "source": [
    "# How many items are in a dictionary?\n",
    "print(len(shopping_list))"
   ]
  },
  {
   "cell_type": "markdown",
   "id": "b920c096-3c88-4f43-adc0-926a61c831ea",
   "metadata": {},
   "source": [
    "## Other types\n",
    "There exist other types of data, but we're not going to cover them here (nor usem them!). You may read more details about them [here](https://python101.pythonlibrary.org/chapter3_lists_dicts.html) and [here](https://www.w3schools.com/python/python_datatypes.asp). "
   ]
  },
  {
   "cell_type": "markdown",
   "id": "20eb7626-caa7-49ee-80aa-2084270c80ad",
   "metadata": {},
   "source": [
    "# Reading files\n"
   ]
  },
  {
   "cell_type": "markdown",
   "id": "a3a54927-ff64-4328-957f-aaf63c906ef8",
   "metadata": {},
   "source": [
    "## Reading one single file"
   ]
  },
  {
   "cell_type": "code",
   "execution_count": null,
   "id": "b6de4836-d9d3-497d-9605-28628710a107",
   "metadata": {
    "scrolled": true
   },
   "outputs": [],
   "source": [
    "import os\n",
    "print(os.getcwd())\n",
    "with open(\"./python_primer/data/ABERCROMBIE_FITCH__AR__NYSE_ANF_2022.txt\", \"r\") as text:\n",
    "    print(text)\n",
    "    "
   ]
  },
  {
   "cell_type": "code",
   "execution_count": null,
   "id": "f75a5ea8-d853-402a-84ce-42e0c435336e",
   "metadata": {},
   "outputs": [],
   "source": [
    "with open(\"./python_primer/data/ABERCROMBIE_FITCH__AR__NYSE_ANF_2022.txt\", \"r\") as text:\n",
    "    print(text)"
   ]
  },
  {
   "cell_type": "markdown",
   "id": "1b10c6b7-93aa-4bf3-882b-b9fe4f888b90",
   "metadata": {},
   "source": [
    "## Reading multiple files"
   ]
  },
  {
   "cell_type": "code",
   "execution_count": null,
   "id": "39f46536-46bb-4715-b251-ac4f605d9772",
   "metadata": {},
   "outputs": [],
   "source": [
    "from glob import glob\n",
    "\n",
    "files = glob(\"./python_primer/data/*.txt\")\n",
    "\n",
    "for file in files:\n",
    "    text = open(file, \"r\").read()\n",
    "    print(text)"
   ]
  },
  {
   "cell_type": "markdown",
   "id": "b4f09a90-58a7-42eb-ab14-922f6fcd9e0f",
   "metadata": {},
   "source": [
    "# Writing to file(s)"
   ]
  },
  {
   "cell_type": "code",
   "execution_count": null,
   "id": "bcb4e8cb-7e10-4472-a054-2cfdaf2c5aba",
   "metadata": {},
   "outputs": [],
   "source": [
    "with open(\"output.txt\", \"w\") as out:\n",
    "    out.write()"
   ]
  },
  {
   "cell_type": "code",
   "execution_count": null,
   "id": "259469fb-ba91-497a-b4b8-679a0c9fc917",
   "metadata": {},
   "outputs": [],
   "source": [
    "with open(\"output_continuous.txt\", \"a\") as out:\n",
    "    out.write()"
   ]
  },
  {
   "cell_type": "markdown",
   "id": "dbed3b8b-0806-405d-97f0-7d997d599951",
   "metadata": {},
   "source": [
    "# Tabular data: `csv`"
   ]
  },
  {
   "cell_type": "markdown",
   "id": "361cf6fa-380b-41fc-aa6b-e6a580a5fc9b",
   "metadata": {},
   "source": [
    "# Marked-up data: `xml`"
   ]
  },
  {
   "cell_type": "markdown",
   "id": "477c7bed-5d3e-471f-988a-7c448319e525",
   "metadata": {},
   "source": [
    "# Language recognition\n",
    "\n",
    "[`lingua-py`](https://github.com/pemistahl/lingua-py)\n",
    "\n",
    "> `pip install lingua-language-detector`"
   ]
  },
  {
   "cell_type": "code",
   "execution_count": 23,
   "id": "b57d6599-0931-4ae4-98e4-c5c35501b930",
   "metadata": {},
   "outputs": [],
   "source": [
    "from lingua import Language, LanguageDetectorBuilder\n",
    "\n",
    "# Setup some variables and parameters to be later used\n",
    "languages = [Language.ENGLISH, Language.ITALIAN]\n",
    "detector = LanguageDetectorBuilder.from_languages(*languages).build()"
   ]
  },
  {
   "cell_type": "code",
   "execution_count": 25,
   "id": "b30779ac-69dd-4777-bf47-e098c9501b75",
   "metadata": {},
   "outputs": [
    {
     "name": "stdout",
     "output_type": "stream",
     "text": [
      "Language.ENGLISH\n",
      "Language.ITALIAN\n",
      "Language.ITALIAN\n"
     ]
    }
   ],
   "source": [
    "sent1 = \"And now for something completely different!\"\n",
    "sent2 = \"E ora, qualcosa di completamente diverso!\"\n",
    "sent3 = \"Y ahora algo completamente diferente\"\n",
    "\n",
    "print(detector.detect_language_of(sent1))\n",
    "print(detector.detect_language_of(sent2))\n",
    "print(detector.detect_language_of(sent3))"
   ]
  },
  {
   "cell_type": "markdown",
   "id": "23be9329-b03e-4174-bdc9-cd3bd752541c",
   "metadata": {},
   "source": [
    "# Linguistic annotations"
   ]
  },
  {
   "cell_type": "code",
   "execution_count": null,
   "id": "5ad0fd13-d3b0-469c-bece-c5f86d80525a",
   "metadata": {},
   "outputs": [],
   "source": []
  }
 ],
 "metadata": {
  "kernelspec": {
   "display_name": "Python 3 (ipykernel)",
   "language": "python",
   "name": "python3"
  },
  "language_info": {
   "codemirror_mode": {
    "name": "ipython",
    "version": 3
   },
   "file_extension": ".py",
   "mimetype": "text/x-python",
   "name": "python",
   "nbconvert_exporter": "python",
   "pygments_lexer": "ipython3",
   "version": "3.11.9"
  }
 },
 "nbformat": 4,
 "nbformat_minor": 5
}
